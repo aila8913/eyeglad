{
 "cells": [
  {
   "cell_type": "code",
   "execution_count": 26,
   "metadata": {},
   "outputs": [
    {
     "name": "stdout",
     "output_type": "stream",
     "text": [
      "C:\\python-training\\eyeglad\\use_SQl\n"
     ]
    }
   ],
   "source": [
    "import os  # noqa: E402\n",
    "os.chdir('C:/python-training/eyeglad/use_SQl')  # noqa: E402\n",
    "print(os.getcwd())  # noqa: E402"
   ]
  },
  {
   "cell_type": "code",
   "execution_count": 27,
   "metadata": {},
   "outputs": [],
   "source": [
    "import dash\n",
    "from dash import dash_table\n",
    "import dash_bootstrap_components as dbc\n",
    "from dash import dcc, html, Input, Output\n",
    "import pandas as pd\n",
    "import plotly.express as px\n",
    "from use_SQL import getdata, log_in\n",
    "from sqlalchemy import create_engine, inspect\n"
   ]
  },
  {
   "cell_type": "code",
   "execution_count": 28,
   "metadata": {},
   "outputs": [
    {
     "name": "stdout",
     "output_type": "stream",
     "text": [
      "Log in successful\n",
      "Tables: sponsored_brands_attributed_purchases_report\n",
      "sponsored_brands_campaign_placement_report\n",
      "sponsored_brands_campaign_report\n",
      "sponsored_brands_category_benchmark_report\n",
      "sponsored_brands_gross_and_invalid_traffic_report\n",
      "sponsored_brands_keyword_placement_report\n",
      "sponsored_brands_keyword_report\n",
      "sponsored_brands_search_term_impression_share_report\n",
      "sponsored_brands_search_term_report\n",
      "sponsored_products_advertised_product_report\n",
      "sponsored_products_budget_report\n",
      "sponsored_products_campaign_report\n",
      "sponsored_products_gross_and_invalid_traffic_report\n",
      "sponsored_products_performance_over_time_report\n",
      "sponsored_products_placement_report\n",
      "sponsored_products_purchased_product_report\n",
      "sponsored_products_search_term_impression_share_report\n",
      "sponsored_products_search_term_report\n",
      "sponsored_products_targeting_report\n"
     ]
    }
   ],
   "source": [
    "database = 'amazon'\n",
    "# 連接到 MySQL 資料庫\n",
    "engine = log_in.log_in_mySQL(database)\n",
    "\n",
    "# 建立檢查器\n",
    "inspector = inspect(engine)\n",
    "# 查詢所有 table\n",
    "tables = inspector.get_table_names()\n",
    "print(\"Tables:\", '\\n'.join(tables))"
   ]
  },
  {
   "cell_type": "code",
   "execution_count": 29,
   "metadata": {},
   "outputs": [
    {
     "name": "stdout",
     "output_type": "stream",
     "text": [
      "Log in successful\n"
     ]
    }
   ],
   "source": [
    "# 初始化Dash應用\n",
    "app = dash.Dash(__name__, external_stylesheets=[dbc.themes.BOOTSTRAP])\n",
    "\n",
    "# 從資料庫讀取數據\n",
    "\n",
    "table_name = \"sponsored_products_targeting_report\".lower()  # 替換為你的表名\n",
    "df = getdata.fetch_data_from_db(database=database, table='sponsored_products_search_term_report')\n"
   ]
  },
  {
   "cell_type": "code",
   "execution_count": 30,
   "metadata": {},
   "outputs": [
    {
     "data": {
      "text/html": [
       "\n",
       "        <iframe\n",
       "            width=\"100%\"\n",
       "            height=\"650\"\n",
       "            src=\"http://127.0.0.1:8050/\"\n",
       "            frameborder=\"0\"\n",
       "            allowfullscreen\n",
       "            \n",
       "        ></iframe>\n",
       "        "
      ],
      "text/plain": [
       "<IPython.lib.display.IFrame at 0x2331ff374d0>"
      ]
     },
     "metadata": {},
     "output_type": "display_data"
    }
   ],
   "source": [
    "# 應用佈局\n",
    "app.layout = dbc.Container([\n",
    "    dbc.Row(dbc.Col(html.H1(\"電商平台分析儀表板\"), className=\"mb-4\")),\n",
    "    \n",
    "    dbc.Row([\n",
    "        dbc.Col([\n",
    "            html.Label(\"選擇X軸\"),\n",
    "            dcc.Dropdown(\n",
    "                id='x-axis',\n",
    "                options=[{'label': col, 'value': col} for col in df.columns],\n",
    "                value=df.columns[0],\n",
    "                className=\"mb-2\"\n",
    "            ),\n",
    "            html.Label(\"選擇Y軸\"),\n",
    "            dcc.Dropdown(\n",
    "                id='y-axis',\n",
    "                options=[{'label': col, 'value': col} for col in df.columns],\n",
    "                value=df.columns[1],\n",
    "                className=\"mb-2\"\n",
    "            ),\n",
    "            html.Label(\"篩選條件\"),\n",
    "            dcc.Dropdown(\n",
    "                id='filter-column',\n",
    "                options=[{'label': col, 'value': col} for col in df.columns],\n",
    "                value=df.columns[2],\n",
    "                className=\"mb-2\"\n",
    "            ),\n",
    "            dcc.Input(\n",
    "                id='filter-value',\n",
    "                placeholder='輸入篩選值...',\n",
    "                type='text',\n",
    "                className=\"mb-2\"\n",
    "            )\n",
    "        ], width=4),\n",
    "        \n",
    "        dbc.Col(dcc.Graph(id='scatter-plot'), width=8)\n",
    "    ]),\n",
    "    \n",
    "    dbc.Row(dbc.Col(html.H2(\"數據表\"), className=\"mt-4\")),\n",
    "    \n",
    "    dbc.Row(dbc.Col(dash_table.DataTable(\n",
    "        id='table',\n",
    "        columns=[{\"name\": i, \"id\": i} for i in df.columns],\n",
    "        data=df.to_dict('records'),\n",
    "        page_size=10\n",
    "    )))\n",
    "], fluid=True)\n",
    "\n",
    "# 回調函數更新圖表和表格\n",
    "@app.callback(\n",
    "    [Output('scatter-plot', 'figure'),\n",
    "     Output('table', 'data')],\n",
    "    [Input('x-axis', 'value'),\n",
    "     Input('y-axis', 'value'),\n",
    "     Input('filter-column', 'value'),\n",
    "     Input('filter-value', 'value')]\n",
    ")\n",
    "def update_chart(x_axis, y_axis, filter_column, filter_value):\n",
    "    # 過濾數據\n",
    "    if filter_value:\n",
    "        filtered_df = df[df[filter_column].astype(str).str.contains(filter_value)]\n",
    "    else:\n",
    "        filtered_df = df\n",
    "\n",
    "    # 創建圖表\n",
    "    fig = px.scatter(filtered_df, x=x_axis, y=y_axis, color=filter_column)\n",
    "    \n",
    "    # 更新表格數據\n",
    "    table_data = filtered_df.to_dict('records')\n",
    "    \n",
    "    return fig, table_data\n",
    "\n",
    "# 運行應用\n",
    "if __name__ == '__main__':\n",
    "    app.run_server(debug=True)"
   ]
  }
 ],
 "metadata": {
  "kernelspec": {
   "display_name": "common",
   "language": "python",
   "name": "python3"
  },
  "language_info": {
   "codemirror_mode": {
    "name": "ipython",
    "version": 3
   },
   "file_extension": ".py",
   "mimetype": "text/x-python",
   "name": "python",
   "nbconvert_exporter": "python",
   "pygments_lexer": "ipython3",
   "version": "3.11.9"
  }
 },
 "nbformat": 4,
 "nbformat_minor": 2
}
