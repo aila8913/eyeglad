{
 "cells": [
  {
   "cell_type": "code",
   "execution_count": 6,
   "metadata": {},
   "outputs": [],
   "source": [
    "import os  # noqa: E402\n",
    "import sys  # noqa E402\n",
    "# 直接設置 use_pg_SQL 資料夾的絕對路徑\n",
    "use_pg_SQL_dir = r'C:/python-training/eyeglad/Amazon'  # noqa E402\n",
    "\n",
    "# 將 use_pg_SQL 資料夾添加到系統路徑\n",
    "sys.path.append(use_pg_SQL_dir)  # noqa E402\n",
    "\n",
    "from sqlalchemy import text\n",
    "from use_pg_SQL import log_in, getdata\n"
   ]
  },
  {
   "cell_type": "code",
   "execution_count": 7,
   "metadata": {},
   "outputs": [
    {
     "ename": "ValueError",
     "evalue": "One or more environment variables are missing.",
     "output_type": "error",
     "traceback": [
      "\u001b[1;31m---------------------------------------------------------------------------\u001b[0m",
      "\u001b[1;31mValueError\u001b[0m                                Traceback (most recent call last)",
      "Cell \u001b[1;32mIn[7], line 39\u001b[0m\n\u001b[0;32m     36\u001b[0m     \u001b[38;5;28mprint\u001b[39m(\u001b[38;5;124m\"\u001b[39m\u001b[38;5;124mTACoS calculation completed and updated in the database.\u001b[39m\u001b[38;5;124m\"\u001b[39m)\n\u001b[0;32m     38\u001b[0m \u001b[38;5;66;03m# Example usage to add TACoS column:\u001b[39;00m\n\u001b[1;32m---> 39\u001b[0m \u001b[43madd_tacos_column_if_not_exists\u001b[49m\u001b[43m(\u001b[49m\u001b[38;5;124;43m'\u001b[39;49m\u001b[38;5;124;43m240621_Sponsored_Products_Search_term_report\u001b[39;49m\u001b[38;5;124;43m'\u001b[39;49m\u001b[43m)\u001b[49m\n",
      "Cell \u001b[1;32mIn[7], line 2\u001b[0m, in \u001b[0;36madd_tacos_column_if_not_exists\u001b[1;34m(table)\u001b[0m\n\u001b[0;32m      1\u001b[0m \u001b[38;5;28;01mdef\u001b[39;00m \u001b[38;5;21madd_tacos_column_if_not_exists\u001b[39m(table):\n\u001b[1;32m----> 2\u001b[0m     engine \u001b[38;5;241m=\u001b[39m \u001b[43mlog_in\u001b[49m\u001b[38;5;241;43m.\u001b[39;49m\u001b[43mlog_in_pgSQL\u001b[49m\u001b[43m(\u001b[49m\u001b[43m)\u001b[49m\n\u001b[0;32m      3\u001b[0m     add_column_query \u001b[38;5;241m=\u001b[39m \u001b[38;5;124mf\u001b[39m\u001b[38;5;124m\"\"\"\u001b[39m\n\u001b[0;32m      4\u001b[0m \u001b[38;5;124m    DO $$\u001b[39m\n\u001b[0;32m      5\u001b[0m \u001b[38;5;124m    BEGIN\u001b[39m\n\u001b[1;32m   (...)\u001b[0m\n\u001b[0;32m     10\u001b[0m \u001b[38;5;124m    $$;\u001b[39m\n\u001b[0;32m     11\u001b[0m \u001b[38;5;124m    \u001b[39m\u001b[38;5;124m\"\"\"\u001b[39m\n\u001b[0;32m     12\u001b[0m     \u001b[38;5;28;01mwith\u001b[39;00m engine\u001b[38;5;241m.\u001b[39mconnect() \u001b[38;5;28;01mas\u001b[39;00m connection:\n",
      "File \u001b[1;32mC:\\python-training/eyeglad/Amazon\\use_pg_SQL\\log_in.py:47\u001b[0m, in \u001b[0;36mlog_in_pgSQL\u001b[1;34m()\u001b[0m\n\u001b[0;32m     40\u001b[0m \u001b[38;5;66;03m# print(f'pgSQL_dbname: {dbname}')\u001b[39;00m\n\u001b[0;32m     41\u001b[0m \u001b[38;5;66;03m# print(f'pgSQL_user: {user}')\u001b[39;00m\n\u001b[0;32m     42\u001b[0m \u001b[38;5;66;03m# print(f'pgSQL_password: {password}')\u001b[39;00m\n\u001b[0;32m     43\u001b[0m \u001b[38;5;66;03m# print(f'pgSQL_host: {host}')\u001b[39;00m\n\u001b[0;32m     44\u001b[0m \u001b[38;5;66;03m# print(f'pgSQL_port: {port}')\u001b[39;00m\n\u001b[0;32m     46\u001b[0m \u001b[38;5;28;01mif\u001b[39;00m \u001b[38;5;129;01mnot\u001b[39;00m \u001b[38;5;28mall\u001b[39m([dbname, user, password, host, port]):\n\u001b[1;32m---> 47\u001b[0m     \u001b[38;5;28;01mraise\u001b[39;00m \u001b[38;5;167;01mValueError\u001b[39;00m(\u001b[38;5;124m\"\u001b[39m\u001b[38;5;124mOne or more environment variables are missing.\u001b[39m\u001b[38;5;124m\"\u001b[39m)\n\u001b[0;32m     49\u001b[0m \u001b[38;5;28mprint\u001b[39m(\u001b[38;5;124mf\u001b[39m\u001b[38;5;124m\"\u001b[39m\u001b[38;5;124mConnecting to database at \u001b[39m\u001b[38;5;132;01m{\u001b[39;00mhost\u001b[38;5;132;01m}\u001b[39;00m\u001b[38;5;124m with user \u001b[39m\u001b[38;5;132;01m{\u001b[39;00muser\u001b[38;5;132;01m}\u001b[39;00m\u001b[38;5;124m\"\u001b[39m)\n\u001b[0;32m     51\u001b[0m \u001b[38;5;66;03m# 使用 SQLAlchemy 創建連接字符串\u001b[39;00m\n",
      "\u001b[1;31mValueError\u001b[0m: One or more environment variables are missing."
     ]
    }
   ],
   "source": [
    "\n",
    "def add_tacos_column_if_not_exists(table):\n",
    "    engine = log_in.log_in_pgSQL()\n",
    "    add_column_query = f\"\"\"\n",
    "    DO $$\n",
    "    BEGIN\n",
    "        IF NOT EXISTS (SELECT 1 FROM information_schema.columns WHERE table_name='{table}' AND column_name='TACoS') THEN\n",
    "            ALTER TABLE public.\"{table}\" ADD COLUMN \"TACoS\" FLOAT;\n",
    "        END IF;\n",
    "    END\n",
    "    $$;\n",
    "    \"\"\"\n",
    "    with engine.connect() as connection:\n",
    "        connection.execute(text(add_column_query))\n",
    "    print(f\"Checked and added TACoS column if not exists in table {table}.\")\n",
    "\n",
    "def calculate_and_update_tacos_directly(table):\n",
    "    engine = log_in.log_in_pgSQL()\n",
    "\n",
    "    # Add TACoS column if it does not exist\n",
    "    add_tacos_column_if_not_exists(table)\n",
    "\n",
    "    # Update the original table with TACoS values\n",
    "    update_query = f\"\"\"\n",
    "    UPDATE public.\"{table}\"\n",
    "    SET \"TACoS\" = CASE\n",
    "        WHEN \"seven_Day_Total_Sales\" != 0 THEN \"Spend\" / \"seven_Day_Total_Sales\"\n",
    "        ELSE 0\n",
    "    END\n",
    "    \"\"\"\n",
    "    print(update_query)  # Print the query for debugging\n",
    "\n",
    "    with engine.connect() as connection:\n",
    "        connection.execute(text(update_query))\n",
    "    print(f\"Original table {table} updated with TACoS values successfully.\")\n",
    "\n",
    "    print(\"TACoS calculation completed and updated in the database.\")\n",
    "\n",
    "# Example usage to add TACoS column:\n",
    "add_tacos_column_if_not_exists('240621_Sponsored_Products_Search_term_report')"
   ]
  },
  {
   "cell_type": "code",
   "execution_count": 4,
   "metadata": {},
   "outputs": [
    {
     "ename": "ValueError",
     "evalue": "One or more environment variables are missing.",
     "output_type": "error",
     "traceback": [
      "\u001b[1;31m---------------------------------------------------------------------------\u001b[0m",
      "\u001b[1;31mValueError\u001b[0m                                Traceback (most recent call last)",
      "Cell \u001b[1;32mIn[4], line 2\u001b[0m\n\u001b[0;32m      1\u001b[0m \u001b[38;5;66;03m# Example usage to add TACoS column:\u001b[39;00m\n\u001b[1;32m----> 2\u001b[0m \u001b[43madd_tacos_column_if_not_exists\u001b[49m\u001b[43m(\u001b[49m\u001b[38;5;124;43m'\u001b[39;49m\u001b[38;5;124;43m240621_Sponsored_Products_Search_term_report\u001b[39;49m\u001b[38;5;124;43m'\u001b[39;49m\u001b[43m)\u001b[49m\n",
      "Cell \u001b[1;32mIn[3], line 2\u001b[0m, in \u001b[0;36madd_tacos_column_if_not_exists\u001b[1;34m(table)\u001b[0m\n\u001b[0;32m      1\u001b[0m \u001b[38;5;28;01mdef\u001b[39;00m \u001b[38;5;21madd_tacos_column_if_not_exists\u001b[39m(table):\n\u001b[1;32m----> 2\u001b[0m     engine \u001b[38;5;241m=\u001b[39m \u001b[43mlog_in\u001b[49m\u001b[38;5;241;43m.\u001b[39;49m\u001b[43mlog_in_pgSQL\u001b[49m\u001b[43m(\u001b[49m\u001b[43m)\u001b[49m\n\u001b[0;32m      3\u001b[0m     add_column_query \u001b[38;5;241m=\u001b[39m \u001b[38;5;124mf\u001b[39m\u001b[38;5;124m\"\"\"\u001b[39m\n\u001b[0;32m      4\u001b[0m \u001b[38;5;124m    DO $$\u001b[39m\n\u001b[0;32m      5\u001b[0m \u001b[38;5;124m    BEGIN\u001b[39m\n\u001b[1;32m   (...)\u001b[0m\n\u001b[0;32m     10\u001b[0m \u001b[38;5;124m    $$;\u001b[39m\n\u001b[0;32m     11\u001b[0m \u001b[38;5;124m    \u001b[39m\u001b[38;5;124m\"\"\"\u001b[39m\n\u001b[0;32m     12\u001b[0m     \u001b[38;5;28;01mwith\u001b[39;00m engine\u001b[38;5;241m.\u001b[39mconnect() \u001b[38;5;28;01mas\u001b[39;00m connection:\n",
      "File \u001b[1;32mC:\\python-training/eyeglad/Amazon\\use_pg_SQL\\log_in.py:47\u001b[0m, in \u001b[0;36mlog_in_pgSQL\u001b[1;34m()\u001b[0m\n\u001b[0;32m     40\u001b[0m \u001b[38;5;66;03m# print(f'pgSQL_dbname: {dbname}')\u001b[39;00m\n\u001b[0;32m     41\u001b[0m \u001b[38;5;66;03m# print(f'pgSQL_user: {user}')\u001b[39;00m\n\u001b[0;32m     42\u001b[0m \u001b[38;5;66;03m# print(f'pgSQL_password: {password}')\u001b[39;00m\n\u001b[0;32m     43\u001b[0m \u001b[38;5;66;03m# print(f'pgSQL_host: {host}')\u001b[39;00m\n\u001b[0;32m     44\u001b[0m \u001b[38;5;66;03m# print(f'pgSQL_port: {port}')\u001b[39;00m\n\u001b[0;32m     46\u001b[0m \u001b[38;5;28;01mif\u001b[39;00m \u001b[38;5;129;01mnot\u001b[39;00m \u001b[38;5;28mall\u001b[39m([dbname, user, password, host, port]):\n\u001b[1;32m---> 47\u001b[0m     \u001b[38;5;28;01mraise\u001b[39;00m \u001b[38;5;167;01mValueError\u001b[39;00m(\u001b[38;5;124m\"\u001b[39m\u001b[38;5;124mOne or more environment variables are missing.\u001b[39m\u001b[38;5;124m\"\u001b[39m)\n\u001b[0;32m     49\u001b[0m \u001b[38;5;28mprint\u001b[39m(\u001b[38;5;124mf\u001b[39m\u001b[38;5;124m\"\u001b[39m\u001b[38;5;124mConnecting to database at \u001b[39m\u001b[38;5;132;01m{\u001b[39;00mhost\u001b[38;5;132;01m}\u001b[39;00m\u001b[38;5;124m with user \u001b[39m\u001b[38;5;132;01m{\u001b[39;00muser\u001b[38;5;132;01m}\u001b[39;00m\u001b[38;5;124m\"\u001b[39m)\n\u001b[0;32m     51\u001b[0m \u001b[38;5;66;03m# 使用 SQLAlchemy 創建連接字符串\u001b[39;00m\n",
      "\u001b[1;31mValueError\u001b[0m: One or more environment variables are missing."
     ]
    }
   ],
   "source": [
    "\n"
   ]
  },
  {
   "cell_type": "code",
   "execution_count": null,
   "metadata": {},
   "outputs": [],
   "source": [
    "\n",
    "# Example usage to calculate TACoS and update the database:\n",
    "calculate_and_update_tacos_directly('240621_Sponsored_Products_Search_term_report')\n"
   ]
  }
 ],
 "metadata": {
  "kernelspec": {
   "display_name": "common",
   "language": "python",
   "name": "python3"
  },
  "language_info": {
   "codemirror_mode": {
    "name": "ipython",
    "version": 3
   },
   "file_extension": ".py",
   "mimetype": "text/x-python",
   "name": "python",
   "nbconvert_exporter": "python",
   "pygments_lexer": "ipython3",
   "version": "3.11.9"
  }
 },
 "nbformat": 4,
 "nbformat_minor": 2
}
