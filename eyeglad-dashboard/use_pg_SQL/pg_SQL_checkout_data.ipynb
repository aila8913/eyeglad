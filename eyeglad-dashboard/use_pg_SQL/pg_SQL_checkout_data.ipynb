{
 "cells": [
  {
   "cell_type": "code",
   "execution_count": 10,
   "metadata": {},
   "outputs": [],
   "source": [
    "import os\n",
    "os.chdir('C:/python-training/eyeglad/use_pg_SQL')\n"
   ]
  },
  {
   "cell_type": "code",
   "execution_count": 11,
   "metadata": {},
   "outputs": [],
   "source": [
    "from sqlalchemy import create_engine, inspect\n",
    "import log_in, getdata"
   ]
  },
  {
   "cell_type": "code",
   "execution_count": 12,
   "metadata": {},
   "outputs": [
    {
     "name": "stdout",
     "output_type": "stream",
     "text": [
      "Connecting to database at dpg-cq2v5uqju9rs7394i5f0-a.singapore-postgres.render.com with user amazon_pdvy_user\n",
      "Log in successful\n"
     ]
    }
   ],
   "source": [
    "# 連接到資料庫\n",
    "engine = log_in.log_in_pgSQL()\n",
    "# 建立檢查器\n",
    "inspector = inspect(engine)"
   ]
  },
  {
   "cell_type": "code",
   "execution_count": 13,
   "metadata": {},
   "outputs": [
    {
     "name": "stdout",
     "output_type": "stream",
     "text": [
      "Schemas: ['information_schema', 'public']\n"
     ]
    }
   ],
   "source": [
    "# 查詢所有 schema\n",
    "schemas = inspector.get_schema_names()\n",
    "print(\"Schemas:\", schemas)"
   ]
  },
  {
   "cell_type": "code",
   "execution_count": 14,
   "metadata": {},
   "outputs": [
    {
     "name": "stdout",
     "output_type": "stream",
     "text": [
      "Tables: ['Sponsored_Brands_Gross_and_Invalid_Traffic_report', 'Sponsored_Brands_Attributed_Purchases_report', 'Sponsored_Brands_Campaign_placement_report', 'Sponsored_Brands_Campaign_report', 'Sponsored_Brands_Category_benchmark_report', 'Sponsored_Brands_Keyword_Placement_report', 'Sponsored_Brands_Search_Term_Impression_Share_report', 'Sponsored_Brands_Keyword_report', 'Sponsored_Brands_Search_term_report', 'Sponsored_Products_Advertised_product_report', 'Sponsored_Products_Budget_report', 'Sponsored_Products_Campaign_report_1', 'Sponsored_Products_Gross_and_Invalid_Traffic_report', 'Sponsored_Products_Performance_Over_Time_report', 'Sponsored_Products_Placement_report', 'Sponsored_Products_Purchased_product_report', 'Sponsored_Products_Search_Term_Impression_Share_report', 'Sponsored_Products_Search_term_report', 'Sponsored_Products_Targeting_report', 'Sponsored_Products_Campaign_report']\n"
     ]
    }
   ],
   "source": [
    "# 查詢所有 table\n",
    "tables = inspector.get_table_names(schema='public')\n",
    "print(\"Tables:\", tables)\n"
   ]
  },
  {
   "cell_type": "code",
   "execution_count": 15,
   "metadata": {},
   "outputs": [
    {
     "name": "stdout",
     "output_type": "stream",
     "text": [
      "Connecting to database at dpg-cq2v5uqju9rs7394i5f0-a.singapore-postgres.render.com with user amazon_pdvy_user\n",
      "Log in successful\n"
     ]
    }
   ],
   "source": [
    "df = getdata.fetch_data_from_db('Sponsored_Products_Targeting_report')"
   ]
  },
  {
   "cell_type": "code",
   "execution_count": 16,
   "metadata": {},
   "outputs": [
    {
     "name": "stdout",
     "output_type": "stream",
     "text": [
      "Columns in Sponsored_Products_Targeting_report: [{'name': 'Date', 'type': TIMESTAMP(), 'nullable': True, 'default': None, 'autoincrement': False, 'comment': None}, {'name': 'Portfolio_name', 'type': TEXT(), 'nullable': True, 'default': None, 'autoincrement': False, 'comment': None}, {'name': 'Currency', 'type': TEXT(), 'nullable': True, 'default': None, 'autoincrement': False, 'comment': None}, {'name': 'Campaign_Name', 'type': TEXT(), 'nullable': True, 'default': None, 'autoincrement': False, 'comment': None}, {'name': 'Ad_Group_Name', 'type': TEXT(), 'nullable': True, 'default': None, 'autoincrement': False, 'comment': None}, {'name': 'Targeting', 'type': TEXT(), 'nullable': True, 'default': None, 'autoincrement': False, 'comment': None}, {'name': 'Match_Type', 'type': TEXT(), 'nullable': True, 'default': None, 'autoincrement': False, 'comment': None}, {'name': 'Impressions', 'type': BIGINT(), 'nullable': True, 'default': None, 'autoincrement': False, 'comment': None}, {'name': 'Top-of-search_Impression_Share', 'type': DOUBLE_PRECISION(precision=53), 'nullable': True, 'default': None, 'autoincrement': False, 'comment': None}, {'name': 'Clicks', 'type': BIGINT(), 'nullable': True, 'default': None, 'autoincrement': False, 'comment': None}, {'name': 'Click-Thru_Rate_CTR', 'type': DOUBLE_PRECISION(precision=53), 'nullable': True, 'default': None, 'autoincrement': False, 'comment': None}, {'name': 'Cost_Per_Click_CPC', 'type': DOUBLE_PRECISION(precision=53), 'nullable': True, 'default': None, 'autoincrement': False, 'comment': None}, {'name': 'Spend', 'type': DOUBLE_PRECISION(precision=53), 'nullable': True, 'default': None, 'autoincrement': False, 'comment': None}, {'name': 'Total_Advertising_Cost_of_Sales_ACOS', 'type': DOUBLE_PRECISION(precision=53), 'nullable': True, 'default': None, 'autoincrement': False, 'comment': None}, {'name': 'Total_Return_on_Advertising_Spend_ROAS', 'type': DOUBLE_PRECISION(precision=53), 'nullable': True, 'default': None, 'autoincrement': False, 'comment': None}, {'name': 'seven_Day_Total_Sales', 'type': DOUBLE_PRECISION(precision=53), 'nullable': True, 'default': None, 'autoincrement': False, 'comment': None}, {'name': 'seven_Day_Total_Orders_', 'type': BIGINT(), 'nullable': True, 'default': None, 'autoincrement': False, 'comment': None}, {'name': 'seven_Day_Total_Units_', 'type': BIGINT(), 'nullable': True, 'default': None, 'autoincrement': False, 'comment': None}, {'name': 'seven_Day_Conversion_Rate', 'type': DOUBLE_PRECISION(precision=53), 'nullable': True, 'default': None, 'autoincrement': False, 'comment': None}, {'name': 'seven_Day_Advertised_SKU_Units_', 'type': BIGINT(), 'nullable': True, 'default': None, 'autoincrement': False, 'comment': None}, {'name': 'seven_Day_Other_SKU_Units_', 'type': BIGINT(), 'nullable': True, 'default': None, 'autoincrement': False, 'comment': None}, {'name': 'seven_Day_Advertised_SKU_Sales', 'type': DOUBLE_PRECISION(precision=53), 'nullable': True, 'default': None, 'autoincrement': False, 'comment': None}, {'name': 'seven_Day_Other_SKU_Sales', 'type': DOUBLE_PRECISION(precision=53), 'nullable': True, 'default': None, 'autoincrement': False, 'comment': None}]\n"
     ]
    }
   ],
   "source": [
    "\n",
    "# 查詢某一 table 的所有 columns\n",
    "table_name = 'Sponsored_Products_Targeting_report'\n",
    "columns = inspector.get_columns(table_name, schema='public')\n",
    "print(f\"Columns in {table_name}:\", columns)\n"
   ]
  },
  {
   "cell_type": "code",
   "execution_count": 17,
   "metadata": {},
   "outputs": [
    {
     "name": "stdout",
     "output_type": "stream",
     "text": [
      "Date\n",
      "Portfolio_name\n",
      "Currency\n",
      "Campaign_Name\n",
      "Ad_Group_Name\n",
      "Targeting\n",
      "Match_Type\n",
      "Impressions\n",
      "Top-of-search_Impression_Share\n",
      "Clicks\n",
      "Click-Thru_Rate_CTR\n",
      "Cost_Per_Click_CPC\n",
      "Spend\n",
      "Total_Advertising_Cost_of_Sales_ACOS\n",
      "Total_Return_on_Advertising_Spend_ROAS\n",
      "seven_Day_Total_Sales\n",
      "seven_Day_Total_Orders_\n",
      "seven_Day_Total_Units_\n",
      "seven_Day_Conversion_Rate\n",
      "seven_Day_Advertised_SKU_Units_\n",
      "seven_Day_Other_SKU_Units_\n",
      "seven_Day_Advertised_SKU_Sales\n",
      "seven_Day_Other_SKU_Sales\n"
     ]
    }
   ],
   "source": [
    "\n",
    "# 顯示列名稱\n",
    "for column in columns:\n",
    "    print(column['name'])\n"
   ]
  }
 ],
 "metadata": {
  "kernelspec": {
   "display_name": "common",
   "language": "python",
   "name": "python3"
  },
  "language_info": {
   "codemirror_mode": {
    "name": "ipython",
    "version": 3
   },
   "file_extension": ".py",
   "mimetype": "text/x-python",
   "name": "python",
   "nbconvert_exporter": "python",
   "pygments_lexer": "ipython3",
   "version": "3.11.9"
  }
 },
 "nbformat": 4,
 "nbformat_minor": 2
}
