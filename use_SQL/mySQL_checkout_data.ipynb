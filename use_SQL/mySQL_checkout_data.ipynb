{
 "cells": [
  {
   "cell_type": "code",
   "execution_count": 1,
   "metadata": {},
   "outputs": [
    {
     "name": "stdout",
     "output_type": "stream",
     "text": [
      "C:\\python-training\\eyeglad\\use_SQL\n"
     ]
    }
   ],
   "source": [
    "import os\n",
    "os.chdir('C:/python-training/eyeglad/use_SQL')\n",
    "print(os.getcwd())"
   ]
  },
  {
   "cell_type": "code",
   "execution_count": 2,
   "metadata": {},
   "outputs": [],
   "source": [
    "from sqlalchemy import create_engine, inspect\n",
    "import log_in\n",
    "import getdata\n"
   ]
  },
  {
   "cell_type": "code",
   "execution_count": 3,
   "metadata": {},
   "outputs": [
    {
     "name": "stdout",
     "output_type": "stream",
     "text": [
      "Log in successful\n"
     ]
    }
   ],
   "source": [
    "database = 'amazon'\n",
    "# 連接到 MySQL 資料庫\n",
    "engine = log_in.log_in_mySQL(database)\n",
    "\n",
    "# 建立檢查器\n",
    "inspector = inspect(engine)\n"
   ]
  },
  {
   "cell_type": "code",
   "execution_count": 4,
   "metadata": {},
   "outputs": [
    {
     "name": "stdout",
     "output_type": "stream",
     "text": [
      "Schemas: ['amazon', 'amazon_sport_sunglasses', 'events_sqltraining', 'information_schema', 'mysql', 'performance_schema', 'sys', 'world']\n"
     ]
    }
   ],
   "source": [
    "\n",
    "# 查詢所有 schema\n",
    "schemas = inspector.get_schema_names()\n",
    "print(\"Schemas:\", schemas)\n"
   ]
  },
  {
   "cell_type": "code",
   "execution_count": 5,
   "metadata": {},
   "outputs": [
    {
     "name": "stdout",
     "output_type": "stream",
     "text": [
      "Tables: ['sponsored_brands_attributed_purchases_report', 'sponsored_products_targeting_report']\n"
     ]
    }
   ],
   "source": [
    "\n",
    "# 查詢所有 table\n",
    "tables = inspector.get_table_names()\n",
    "print(\"Tables:\", tables)\n"
   ]
  },
  {
   "cell_type": "code",
   "execution_count": 6,
   "metadata": {},
   "outputs": [
    {
     "name": "stdout",
     "output_type": "stream",
     "text": [
      "Columns in sponsored_products_targeting_report: [{'name': 'Date', 'type': TIMESTAMP(), 'default': None, 'comment': None, 'nullable': True}, {'name': 'Portfolio_name', 'type': VARCHAR(length=255), 'default': None, 'comment': None, 'nullable': True}, {'name': 'Currency', 'type': VARCHAR(length=255), 'default': None, 'comment': None, 'nullable': True}, {'name': 'Campaign_Name', 'type': VARCHAR(length=255), 'default': None, 'comment': None, 'nullable': True}, {'name': 'Ad_Group_Name', 'type': VARCHAR(length=255), 'default': None, 'comment': None, 'nullable': True}, {'name': 'Targeting', 'type': VARCHAR(length=255), 'default': None, 'comment': None, 'nullable': True}, {'name': 'Match_Type', 'type': VARCHAR(length=255), 'default': None, 'comment': None, 'nullable': True}, {'name': 'Impressions', 'type': INTEGER(), 'default': None, 'comment': None, 'nullable': True, 'autoincrement': False}, {'name': 'Top-of-search_Impression_Share', 'type': FLOAT(), 'default': None, 'comment': None, 'nullable': True}, {'name': 'Clicks', 'type': INTEGER(), 'default': None, 'comment': None, 'nullable': True, 'autoincrement': False}, {'name': 'Click-Thru_Rate_CTR', 'type': FLOAT(), 'default': None, 'comment': None, 'nullable': True}, {'name': 'Cost_Per_Click_CPC', 'type': FLOAT(), 'default': None, 'comment': None, 'nullable': True}, {'name': 'Spend', 'type': FLOAT(), 'default': None, 'comment': None, 'nullable': True}, {'name': 'Total_Advertising_Cost_of_Sales_ACOS', 'type': FLOAT(), 'default': None, 'comment': None, 'nullable': True}, {'name': 'Total_Return_on_Advertising_Spend_ROAS', 'type': FLOAT(), 'default': None, 'comment': None, 'nullable': True}, {'name': 'seven_Day_Total_Sales', 'type': FLOAT(), 'default': None, 'comment': None, 'nullable': True}, {'name': 'seven_Day_Total_Orders_', 'type': INTEGER(), 'default': None, 'comment': None, 'nullable': True, 'autoincrement': False}, {'name': 'seven_Day_Total_Units_', 'type': INTEGER(), 'default': None, 'comment': None, 'nullable': True, 'autoincrement': False}, {'name': 'seven_Day_Conversion_Rate', 'type': FLOAT(), 'default': None, 'comment': None, 'nullable': True}, {'name': 'seven_Day_Advertised_SKU_Units_', 'type': INTEGER(), 'default': None, 'comment': None, 'nullable': True, 'autoincrement': False}, {'name': 'seven_Day_Other_SKU_Units_', 'type': INTEGER(), 'default': None, 'comment': None, 'nullable': True, 'autoincrement': False}, {'name': 'seven_Day_Advertised_SKU_Sales', 'type': FLOAT(), 'default': None, 'comment': None, 'nullable': True}, {'name': 'seven_Day_Other_SKU_Sales', 'type': FLOAT(), 'default': None, 'comment': None, 'nullable': True}]\n",
      "Date\n",
      "Portfolio_name\n",
      "Currency\n",
      "Campaign_Name\n",
      "Ad_Group_Name\n",
      "Targeting\n",
      "Match_Type\n",
      "Impressions\n",
      "Top-of-search_Impression_Share\n",
      "Clicks\n",
      "Click-Thru_Rate_CTR\n",
      "Cost_Per_Click_CPC\n",
      "Spend\n",
      "Total_Advertising_Cost_of_Sales_ACOS\n",
      "Total_Return_on_Advertising_Spend_ROAS\n",
      "seven_Day_Total_Sales\n",
      "seven_Day_Total_Orders_\n",
      "seven_Day_Total_Units_\n",
      "seven_Day_Conversion_Rate\n",
      "seven_Day_Advertised_SKU_Units_\n",
      "seven_Day_Other_SKU_Units_\n",
      "seven_Day_Advertised_SKU_Sales\n",
      "seven_Day_Other_SKU_Sales\n"
     ]
    }
   ],
   "source": [
    "\n",
    "# 查詢某一 table 的所有 columns\n",
    "table_name = 'sponsored_products_targeting_report'\n",
    "columns = inspector.get_columns(table_name)\n",
    "print(f\"Columns in {table_name}:\", columns)\n",
    "\n",
    "# 顯示列名稱\n",
    "for column in columns:\n",
    "    print(column['name'])\n"
   ]
  },
  {
   "cell_type": "code",
   "execution_count": 7,
   "metadata": {},
   "outputs": [
    {
     "ename": "SyntaxError",
     "evalue": "positional argument follows keyword argument (666990826.py, line 3)",
     "output_type": "error",
     "traceback": [
      "\u001b[1;36m  Cell \u001b[1;32mIn[7], line 3\u001b[1;36m\u001b[0m\n\u001b[1;33m    df = getdata.fetch_data_from_db(database=database, table_name)\u001b[0m\n\u001b[1;37m                                                                 ^\u001b[0m\n\u001b[1;31mSyntaxError\u001b[0m\u001b[1;31m:\u001b[0m positional argument follows keyword argument\n"
     ]
    }
   ],
   "source": [
    "# 從資料庫讀取數據\n",
    "table_name = \"sponsored_products_targeting_report\"  # 替換為你的表名\n",
    "df = getdata.fetch_data_from_db(database=database, table=table_name)\n",
    "# 檢查讀取的資料\n",
    "print(df)"
   ]
  }
 ],
 "metadata": {
  "kernelspec": {
   "display_name": "common",
   "language": "python",
   "name": "python3"
  },
  "language_info": {
   "codemirror_mode": {
    "name": "ipython",
    "version": 3
   },
   "file_extension": ".py",
   "mimetype": "text/x-python",
   "name": "python",
   "nbconvert_exporter": "python",
   "pygments_lexer": "ipython3",
   "version": "3.11.9"
  }
 },
 "nbformat": 4,
 "nbformat_minor": 2
}
